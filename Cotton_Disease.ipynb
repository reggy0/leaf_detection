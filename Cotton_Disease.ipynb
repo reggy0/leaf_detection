{
  "nbformat": 4,
  "nbformat_minor": 0,
  "metadata": {
    "colab": {
      "name": "Cotton Disease.ipynb",
      "provenance": [],
      "collapsed_sections": [],
      "toc_visible": true,
      "include_colab_link": true
    },
    "kernelspec": {
      "name": "python3",
      "display_name": "Python 3"
    },
    "accelerator": "GPU"
  },
  "cells": [
    {
      "cell_type": "markdown",
      "metadata": {
        "id": "view-in-github",
        "colab_type": "text"
      },
      "source": [
        "<a href=\"https://colab.research.google.com/github/reggy0/leaf_detection/blob/main/Cotton_Disease.ipynb\" target=\"_parent\"><img src=\"https://colab.research.google.com/assets/colab-badge.svg\" alt=\"Open In Colab\"/></a>"
      ]
    },
    {
      "cell_type": "code",
      "metadata": {
        "colab": {
          "base_uri": "https://localhost:8080/"
        },
        "id": "WvAfH0FP4SO3",
        "outputId": "b4322eae-33a8-4587-83a6-3407fc7540ae"
      },
      "source": [
        "from google.colab import drive\n",
        "drive.mount('/content/gdrive')"
      ],
      "execution_count": null,
      "outputs": [
        {
          "output_type": "stream",
          "text": [
            "Mounted at /content/gdrive\n"
          ],
          "name": "stdout"
        }
      ]
    },
    {
      "cell_type": "code",
      "metadata": {
        "colab": {
          "base_uri": "https://localhost:8080/"
        },
        "id": "PIzeNp_-5Ymj",
        "outputId": "5fdf6a17-3b13-4ba4-bc6c-d09f7fc87f94"
      },
      "source": [
        "!nvidia-smi"
      ],
      "execution_count": null,
      "outputs": [
        {
          "output_type": "stream",
          "text": [
            "Thu Dec 10 11:55:37 2020       \n",
            "+-----------------------------------------------------------------------------+\n",
            "| NVIDIA-SMI 455.45.01    Driver Version: 418.67       CUDA Version: 10.1     |\n",
            "|-------------------------------+----------------------+----------------------+\n",
            "| GPU  Name        Persistence-M| Bus-Id        Disp.A | Volatile Uncorr. ECC |\n",
            "| Fan  Temp  Perf  Pwr:Usage/Cap|         Memory-Usage | GPU-Util  Compute M. |\n",
            "|                               |                      |               MIG M. |\n",
            "|===============================+======================+======================|\n",
            "|   0  Tesla T4            Off  | 00000000:00:04.0 Off |                    0 |\n",
            "| N/A   60C    P0    31W /  70W |    997MiB / 15079MiB |      0%      Default |\n",
            "|                               |                      |                 ERR! |\n",
            "+-------------------------------+----------------------+----------------------+\n",
            "                                                                               \n",
            "+-----------------------------------------------------------------------------+\n",
            "| Processes:                                                                  |\n",
            "|  GPU   GI   CI        PID   Type   Process name                  GPU Memory |\n",
            "|        ID   ID                                                   Usage      |\n",
            "|=============================================================================|\n",
            "|  No running processes found                                                 |\n",
            "+-----------------------------------------------------------------------------+\n"
          ],
          "name": "stdout"
        }
      ]
    },
    {
      "cell_type": "code",
      "metadata": {
        "id": "T-N6uV2D6E4I"
      },
      "source": [
        "import tensorflow as tf\n",
        "from tensorflow.keras.preprocessing.image import ImageDataGenerator"
      ],
      "execution_count": null,
      "outputs": []
    },
    {
      "cell_type": "code",
      "metadata": {
        "colab": {
          "base_uri": "https://localhost:8080/",
          "height": 35
        },
        "id": "w7MbNw2f6O2D",
        "outputId": "39c2f877-462a-4a59-eadc-890ca9277401"
      },
      "source": [
        "tf.__version__"
      ],
      "execution_count": null,
      "outputs": [
        {
          "output_type": "execute_result",
          "data": {
            "application/vnd.google.colaboratory.intrinsic+json": {
              "type": "string"
            },
            "text/plain": [
              "'2.3.0'"
            ]
          },
          "metadata": {
            "tags": []
          },
          "execution_count": 15
        }
      ]
    },
    {
      "cell_type": "code",
      "metadata": {
        "colab": {
          "base_uri": "https://localhost:8080/"
        },
        "id": "Ig3-r81E6UJf",
        "outputId": "b958b5e5-e9ca-4d82-a0d4-f51ef52a3a98"
      },
      "source": [
        "train_datagen = ImageDataGenerator(rescale=1./255, shear_range=0.2,zoom_range=0.2,horizontal_flip=True)\n",
        "\n",
        "train_set = train_datagen.flow_from_directory('/content/gdrive/MyDrive/kaggle_dataset/cotton-disease-dataset/Cotton Disease/train',\n",
        "                                              target_size=(64,64),\n",
        "                                              batch_size =32,\n",
        "                                              class_mode='categorical')"
      ],
      "execution_count": null,
      "outputs": [
        {
          "output_type": "stream",
          "text": [
            "Found 1951 images belonging to 4 classes.\n"
          ],
          "name": "stdout"
        }
      ]
    },
    {
      "cell_type": "code",
      "metadata": {
        "colab": {
          "base_uri": "https://localhost:8080/"
        },
        "id": "OrFBbftrPGDg",
        "outputId": "2f3b9965-e958-4790-fef2-7b8f65596f15"
      },
      "source": [
        "train_set.class_indices"
      ],
      "execution_count": null,
      "outputs": [
        {
          "output_type": "execute_result",
          "data": {
            "text/plain": [
              "{'diseased cotton leaf': 0,\n",
              " 'diseased cotton plant': 1,\n",
              " 'fresh cotton leaf': 2,\n",
              " 'fresh cotton plant': 3}"
            ]
          },
          "metadata": {
            "tags": []
          },
          "execution_count": 17
        }
      ]
    },
    {
      "cell_type": "code",
      "metadata": {
        "colab": {
          "base_uri": "https://localhost:8080/"
        },
        "id": "jspL999368b0",
        "outputId": "4d07e3e7-f4f6-4cbf-9ca5-3ba8fc71c7bb"
      },
      "source": [
        "test_datagen = ImageDataGenerator(rescale=1./255)\n",
        "\n",
        "test_set = test_datagen.flow_from_directory('/content/gdrive/MyDrive/kaggle_dataset/cotton-disease-dataset/Cotton Disease/test',\n",
        "                                              target_size=(64,64),\n",
        "                                              batch_size =32,\n",
        "                                              class_mode='categorical')"
      ],
      "execution_count": null,
      "outputs": [
        {
          "output_type": "stream",
          "text": [
            "Found 106 images belonging to 4 classes.\n"
          ],
          "name": "stdout"
        }
      ]
    },
    {
      "cell_type": "code",
      "metadata": {
        "colab": {
          "base_uri": "https://localhost:8080/"
        },
        "id": "mY5rKYr3QbFD",
        "outputId": "4b6bfd70-3c55-4a61-d150-92c622aca1fe"
      },
      "source": [
        "test_set.class_indices"
      ],
      "execution_count": null,
      "outputs": [
        {
          "output_type": "execute_result",
          "data": {
            "text/plain": [
              "{'diseased cotton leaf': 0,\n",
              " 'diseased cotton plant': 1,\n",
              " 'fresh cotton leaf': 2,\n",
              " 'fresh cotton plant': 3}"
            ]
          },
          "metadata": {
            "tags": []
          },
          "execution_count": 19
        }
      ]
    },
    {
      "cell_type": "code",
      "metadata": {
        "id": "lJlecTka7N8C"
      },
      "source": [
        "from tensorflow.keras.layers import Conv2D"
      ],
      "execution_count": null,
      "outputs": []
    },
    {
      "cell_type": "code",
      "metadata": {
        "id": "L2SVtrNi7W-6"
      },
      "source": [
        "cnn = tf.keras.models.Sequential()\n",
        "\n",
        "cnn.add(tf.keras.layers.Conv2D(filters=32, padding=\"same\", kernel_size=3, activation='relu', input_shape=[64,64,3]))\n",
        "\n",
        "cnn.add(tf.keras.layers.MaxPool2D(pool_size=2,strides=2))\n",
        "\n",
        "cnn.add(tf.keras.layers.Conv2D(filters=32,padding='same',kernel_size=3, activation='relu'))\n",
        "cnn.add(tf.keras.layers.MaxPool2D(pool_size=2, strides=2))\n",
        "\n",
        "cnn.add(tf.keras.layers.Flatten())\n",
        "\n",
        "cnn.add(tf.keras.layers.Dense(units=128, activation=\"relu\"))\n",
        "\n",
        "cnn.add(tf.keras.layers.Dense(units=4, activation=\"softmax\"))"
      ],
      "execution_count": null,
      "outputs": []
    },
    {
      "cell_type": "code",
      "metadata": {
        "colab": {
          "base_uri": "https://localhost:8080/"
        },
        "id": "Ty6Ao0kk8tch",
        "outputId": "45eec2c2-bbfa-4db1-9e24-7882e05abb95"
      },
      "source": [
        "cnn.summary()"
      ],
      "execution_count": null,
      "outputs": [
        {
          "output_type": "stream",
          "text": [
            "Model: \"sequential_1\"\n",
            "_________________________________________________________________\n",
            "Layer (type)                 Output Shape              Param #   \n",
            "=================================================================\n",
            "conv2d_2 (Conv2D)            (None, 64, 64, 32)        896       \n",
            "_________________________________________________________________\n",
            "max_pooling2d_2 (MaxPooling2 (None, 32, 32, 32)        0         \n",
            "_________________________________________________________________\n",
            "conv2d_3 (Conv2D)            (None, 32, 32, 32)        9248      \n",
            "_________________________________________________________________\n",
            "max_pooling2d_3 (MaxPooling2 (None, 16, 16, 32)        0         \n",
            "_________________________________________________________________\n",
            "flatten_1 (Flatten)          (None, 8192)              0         \n",
            "_________________________________________________________________\n",
            "dense_2 (Dense)              (None, 128)               1048704   \n",
            "_________________________________________________________________\n",
            "dense_3 (Dense)              (None, 4)                 516       \n",
            "=================================================================\n",
            "Total params: 1,059,364\n",
            "Trainable params: 1,059,364\n",
            "Non-trainable params: 0\n",
            "_________________________________________________________________\n"
          ],
          "name": "stdout"
        }
      ]
    },
    {
      "cell_type": "markdown",
      "metadata": {
        "id": "zQpb3ik69bMD"
      },
      "source": [
        "Training"
      ]
    },
    {
      "cell_type": "code",
      "metadata": {
        "colab": {
          "base_uri": "https://localhost:8080/"
        },
        "id": "-fYprnk19VMP",
        "outputId": "c6aab614-1c19-469e-af94-1aa16e566dfb"
      },
      "source": [
        "cnn.compile(optimizer='adam', loss='categorical_crossentropy', metrics=['accuracy'])\n",
        "\n",
        "cnn.fit(x=train_set, validation_data=test_set,epochs=10)"
      ],
      "execution_count": null,
      "outputs": [
        {
          "output_type": "stream",
          "text": [
            "Epoch 1/10\n",
            "61/61 [==============================] - 497s 8s/step - loss: 1.2237 - accuracy: 0.4813 - val_loss: 1.0369 - val_accuracy: 0.5849\n",
            "Epoch 2/10\n",
            "61/61 [==============================] - 18s 303ms/step - loss: 0.8750 - accuracy: 0.6699 - val_loss: 0.9053 - val_accuracy: 0.6132\n",
            "Epoch 3/10\n",
            "61/61 [==============================] - 19s 304ms/step - loss: 0.6651 - accuracy: 0.7514 - val_loss: 0.7858 - val_accuracy: 0.6604\n",
            "Epoch 4/10\n",
            "61/61 [==============================] - 19s 308ms/step - loss: 0.5957 - accuracy: 0.7611 - val_loss: 0.5005 - val_accuracy: 0.7925\n",
            "Epoch 5/10\n",
            "61/61 [==============================] - 19s 305ms/step - loss: 0.5558 - accuracy: 0.7914 - val_loss: 0.5529 - val_accuracy: 0.7830\n",
            "Epoch 6/10\n",
            "61/61 [==============================] - 19s 308ms/step - loss: 0.4886 - accuracy: 0.8114 - val_loss: 0.5753 - val_accuracy: 0.7358\n",
            "Epoch 7/10\n",
            "61/61 [==============================] - 18s 300ms/step - loss: 0.4607 - accuracy: 0.8283 - val_loss: 0.3862 - val_accuracy: 0.8868\n",
            "Epoch 8/10\n",
            "61/61 [==============================] - 18s 301ms/step - loss: 0.4283 - accuracy: 0.8391 - val_loss: 0.5404 - val_accuracy: 0.7925\n",
            "Epoch 9/10\n",
            "61/61 [==============================] - 18s 299ms/step - loss: 0.3954 - accuracy: 0.8426 - val_loss: 0.9558 - val_accuracy: 0.6698\n",
            "Epoch 10/10\n",
            "61/61 [==============================] - 18s 300ms/step - loss: 0.3802 - accuracy: 0.8549 - val_loss: 0.4032 - val_accuracy: 0.8396\n"
          ],
          "name": "stdout"
        },
        {
          "output_type": "execute_result",
          "data": {
            "text/plain": [
              "<tensorflow.python.keras.callbacks.History at 0x7fa619824400>"
            ]
          },
          "metadata": {
            "tags": []
          },
          "execution_count": 23
        }
      ]
    },
    {
      "cell_type": "code",
      "metadata": {
        "id": "iCbtY3f7f63n"
      },
      "source": [
        "from tensorflow.keras.models import load_model\n",
        "\n",
        "cnn.save('/content/gdrive/MyDrive/Colab Notebooks/Cotton Disease Classification/model_rcotton_disease.h5')"
      ],
      "execution_count": null,
      "outputs": []
    },
    {
      "cell_type": "markdown",
      "metadata": {
        "id": "qxp7HSINKisF"
      },
      "source": [
        "## Single Prediction"
      ]
    },
    {
      "cell_type": "code",
      "metadata": {
        "id": "plzDDBl6_Jbt"
      },
      "source": [
        "import numpy as np\n",
        "from tensorflow.keras.preprocessing import image\n",
        "test_img = image.load_img('/content/gdrive/MyDrive/kaggle_dataset/cotton-disease-dataset/Cotton Disease/test/fresh cotton leaf/d (133)_iaip.jpg',target_size=(64,64))\n",
        "test_img = image.img_to_array(test_img)\n",
        "test_img = test_img/255\n",
        "test_img = np.expand_dims(test_img, axis = 0)\n",
        "result = cnn.predict(test_img)"
      ],
      "execution_count": null,
      "outputs": []
    },
    {
      "cell_type": "code",
      "metadata": {
        "id": "gSzFDOzpKgTp"
      },
      "source": [
        "predict = np.argmax(result)"
      ],
      "execution_count": null,
      "outputs": []
    },
    {
      "cell_type": "code",
      "metadata": {
        "colab": {
          "base_uri": "https://localhost:8080/"
        },
        "id": "-uyIdaCrWDwJ",
        "outputId": "31a0f839-ea9e-4955-a528-07ffbf6e92ec"
      },
      "source": [
        "if predict == 0:\n",
        "  print(\"This leaf is diseased cotton leaf\")\n",
        "elif predict == 1:\n",
        "  print(\"This leaf is diseased cotton plant\")\n",
        "elif predict == 2:\n",
        "  print(\"This leaf is fresh cotton leaf\")\n",
        "else:\n",
        "  print(\"This leaf is fresh cotton plant\")"
      ],
      "execution_count": null,
      "outputs": [
        {
          "output_type": "stream",
          "text": [
            "This leaf is fresh cotton leaf\n"
          ],
          "name": "stdout"
        }
      ]
    },
    {
      "cell_type": "code",
      "metadata": {
        "id": "yzt-QtbCjpIr"
      },
      "source": [
        ""
      ],
      "execution_count": null,
      "outputs": []
    }
  ]
}